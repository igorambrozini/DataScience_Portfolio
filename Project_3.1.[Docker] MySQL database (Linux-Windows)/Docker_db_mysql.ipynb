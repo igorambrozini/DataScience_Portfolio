{
 "cells": [
  {
   "cell_type": "markdown",
   "metadata": {},
   "source": [
    "## Project_3.1_Creating MySQL database in Docker (Linux/Windows)\n",
    "Docker documentation: https://docs.docker.com/  "
   ]
  },
  {
   "cell_type": "markdown",
   "metadata": {},
   "source": [
    "### 1) Downloading Docker Desktop:  \n",
    "Download last version at: https://www.docker.com/products/docker-desktop/"
   ]
  },
  {
   "cell_type": "markdown",
   "metadata": {},
   "source": [
    "### 2) Install Docker Desktop\n",
    "Follow steps until installation is complete."
   ]
  },
  {
   "cell_type": "markdown",
   "metadata": {},
   "source": [
    "### 3) Choose Docker Image\n",
    "Go and sign in to https://hub.docker.com/ and search for mysql (official image)"
   ]
  },
  {
   "cell_type": "markdown",
   "metadata": {},
   "source": [
    "### 4) Creating and running container in Docker\n",
    "#### Open prompt and type:\n",
    "\n",
    "Check if docker is installed and version:\n",
    "> docker -v\n",
    "\n",
    "Download and install docker image:\n",
    ">  docker pull mysql\n",
    "\n",
    "Creating container mysql:\n",
    "> docker run -p 3306:3306 --name mysql_database -e MYSQL_ROOT_PASSWORD=root -d mysql\n",
    "\n",
    "*-p to set port 3306  \n",
    "-- name to set name musql_database  \n",
    "MYSQL_ROOT_PASSWORD to set password = root  \n",
    "mysql (docker image name)*\n",
    "\n",
    "Check if container mysql is running:\n",
    "> docker ps\n",
    "\n",
    "Go to Docker Desktop and verify it is running."
   ]
  },
  {
   "cell_type": "markdown",
   "metadata": {},
   "source": [
    "### 5) Check connection using a DBMS compatible with mysql like Workbench mysql\n",
    "\n",
    "Create a new database connection using:  \n",
    "connection method: TCP/IP  \n",
    "hostname: 127.0.0.1  \n",
    "port: 3306  \n",
    "username: root  \n",
    "password: root"
   ]
  }
 ],
 "metadata": {
  "language_info": {
   "name": "python"
  }
 },
 "nbformat": 4,
 "nbformat_minor": 2
}
