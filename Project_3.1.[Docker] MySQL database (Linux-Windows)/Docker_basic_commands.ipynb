{
 "cells": [
  {
   "cell_type": "markdown",
   "metadata": {},
   "source": [
    "### Docker Basic commands\n",
    "\n",
    "Create a container:\n",
    "> docker run [imagem name]\n",
    "\n",
    "Download a image (to create containers)\n",
    "> Docker pull (parameter)\n",
    "\n",
    "Start container:\n",
    "> docker start mysql_database\n",
    "\n",
    "Stop container:\n",
    "> docker stop mysql_database\n",
    "\n",
    "Check all cointainers created:\n",
    "> docker ps\n",
    "\n",
    "Create a new image using a Dockerfile (path or URL, especific parameters)\n",
    "> docker build [OPTIONS] PATH | URL | –\n",
    "\n",
    "Execute a command in a running container:\n",
    "> docker exec [opções] CONTAINER COMMAND [ARGUMENTS]"
   ]
  },
  {
   "cell_type": "markdown",
   "metadata": {},
   "source": []
  }
 ],
 "metadata": {
  "language_info": {
   "name": "python"
  }
 },
 "nbformat": 4,
 "nbformat_minor": 2
}
